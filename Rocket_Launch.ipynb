{
 "cells": [
  {
   "cell_type": "code",
   "execution_count": null,
   "id": "statistical-facility",
   "metadata": {},
   "outputs": [],
   "source": [
    "'''\n",
    "https://medium.com/@launcherspace/introducing-the-launcher-rocket-calculator-f9e0ce3730d4\n",
    " ㄴ introducing the launcher rocket calculatro\n",
    "https://076923.github.io/posts/Python-tkinter-1/ - tkinter 강좌\n",
    "https://www.hindawi.com/journals/mpe/2019/7689860/ - Efficient Method of Firing Angle Calculation for Multiple Launch Rocket System Based on Polynomial Response Surface and Kriging Metamodels\n",
    "'''"
   ]
  },
  {
   "cell_type": "markdown",
   "id": "incredible-checkout",
   "metadata": {},
   "source": [
    "- the infromation of the rocket such as each stages, rocket body diameter, the mass of the only Rocket and engine, and so on..\n",
    "- spaceport : the infromation over the altitude and latitude where the Rocket is launched\n",
    "- orbit : orbit and point\n",
    "- losses : gravity losses, assumed losses and so on..\n",
    "- output\n",
    "- result\n",
    "\n",
    "\n",
    "> - simulator & machine learning program"
   ]
  },
  {
   "cell_type": "markdown",
   "id": "resistant-rating",
   "metadata": {},
   "source": [
    "# tkinter guide\n",
    "\n",
    "- name = tkinter.Tk() : 윈도우 창 생성\n",
    "- name.mainloop() : 윈도우가 종료될 때 까지 실행\n",
    "- name.title('name') : 윈도우 창의 제목 설정\n",
    "- name.geometry('a x b + c x d') : 너비x높이 + 초기 화면 위치 x좌표 x y좌표\n",
    "- name.resizeable(a, b) : 상하, 좌우 창 크기 조절 가능 여부\n",
    "- 위젯이름 = tkinter.Label(name, text = 'context', textvariable, anchor, justify, wraplength, etc....) : Label위젯 설정\n",
    "- labe.pack() : 위젯 배치"
   ]
  },
  {
   "cell_type": "code",
   "execution_count": 19,
   "id": "satisfied-scratch",
   "metadata": {},
   "outputs": [],
   "source": [
    "import tkinter\n",
    "\n",
    "window = tkinter.Tk()\n",
    "\n",
    "window.title('Rocket Lauch')\n",
    "window.geometry('640x400+100+100')\n",
    "window.resizable(False, False)\n",
    "\n",
    "label = tkinter.Label(window, text = 'Rocket', width = 10, height = 5, fg = 'red',\n",
    "                      relief = 'solid', highlightcolor = 'blue', highlightbackground = 'red')\n",
    "label.pack()\n",
    "\n",
    "count = 0\n",
    "\n",
    "def countup():\n",
    "    global count\n",
    "    count += 1\n",
    "    label.config(text=str(count))\n",
    "    \n",
    "label = tkinter.Label(window, text = '0')\n",
    "label.pack()\n",
    "\n",
    "button = tkinter.Button(window, text = 'launch', overrelief = 'solid', width = 15, command = countup, repeatdelay = 1000, repeatinterval = 100)\n",
    "button.pack()\n",
    "\n",
    "\n",
    "window.mainloop()"
   ]
  },
  {
   "cell_type": "code",
   "execution_count": null,
   "id": "loaded-offer",
   "metadata": {},
   "outputs": [],
   "source": []
  },
  {
   "cell_type": "code",
   "execution_count": null,
   "id": "driven-string",
   "metadata": {},
   "outputs": [],
   "source": []
  },
  {
   "cell_type": "code",
   "execution_count": null,
   "id": "abandoned-manor",
   "metadata": {},
   "outputs": [],
   "source": []
  }
 ],
 "metadata": {
  "kernelspec": {
   "display_name": "Python 3",
   "language": "python",
   "name": "python3"
  },
  "language_info": {
   "codemirror_mode": {
    "name": "ipython",
    "version": 3
   },
   "file_extension": ".py",
   "mimetype": "text/x-python",
   "name": "python",
   "nbconvert_exporter": "python",
   "pygments_lexer": "ipython3",
   "version": "3.8.5"
  }
 },
 "nbformat": 4,
 "nbformat_minor": 5
}
