{
 "cells": [
  {
   "cell_type": "code",
   "execution_count": 3,
   "id": "engaged-crazy",
   "metadata": {},
   "outputs": [],
   "source": [
    "import tkinter\n",
    "\n",
    "window = tkinter.Tk()\n",
    "window.title('test')\n",
    "window.geometry('640x480+100+100')\n",
    "window.resizable(False, False)\n",
    "\n",
    "def check():\n",
    "    label.config(text = 'RadioVariety_1 = ' + str(RadioVariety_1.get()) + '\\n' +\n",
    "                'RadioVariety_2 = ' + str(RadioVariety_2.get()) + '\\n\\n' +\n",
    "                'Total = ' + str(RadioVariety_1.get() + RadioVariety_2.get()))\n",
    "    \n",
    "RadioVariety_1 = tkinter.IntVar()\n",
    "RadioVariety_2 = tkinter.IntVar()\n",
    "\n",
    "radio1 = tkinter.Radiobutton(window, text = 'no.1', value = 3, variable = RadioVariety_1, command = check)\n",
    "radio1.pack()\n",
    "\n",
    "readio2 = tkinter.Radiobutton(window, text = 'no.2(no.1)', value = 3, variable = RadioVariety_1, command = check)\n",
    "readio2.pack()\n",
    "\n",
    "radio3 = tkinter.Radiobutton(window, text = 'no.3', value = 9, variable = RadioVariety_1, command = check)\n",
    "radio3.pack()\n",
    "\n",
    "label = tkinter.Label(window, text = 'None', height = 5)\n",
    "label.pack()\n",
    "\n",
    "radio4 = tkinter.Radiobutton(window, text = 'no.4', value = 12, variable = RadioVariety_2, command = check)\n",
    "radio4.pack()\n",
    "\n",
    "radio5 = tkinter.Radiobutton(window, text = 'no.5', value = 15, variable = RadioVariety_2, command = check)\n",
    "radio5.pack()\n",
    "\n",
    "window.mainloop()"
   ]
  },
  {
   "cell_type": "code",
   "execution_count": null,
   "id": "surrounded-nation",
   "metadata": {},
   "outputs": [],
   "source": []
  }
 ],
 "metadata": {
  "kernelspec": {
   "display_name": "Python 3",
   "language": "python",
   "name": "python3"
  },
  "language_info": {
   "codemirror_mode": {
    "name": "ipython",
    "version": 3
   },
   "file_extension": ".py",
   "mimetype": "text/x-python",
   "name": "python",
   "nbconvert_exporter": "python",
   "pygments_lexer": "ipython3",
   "version": "3.8.5"
  }
 },
 "nbformat": 4,
 "nbformat_minor": 5
}
