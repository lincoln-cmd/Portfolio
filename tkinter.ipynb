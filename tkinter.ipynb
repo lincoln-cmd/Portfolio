{
 "cells": [
  {
   "cell_type": "code",
   "execution_count": null,
   "id": "finished-lecture",
   "metadata": {},
   "outputs": [],
   "source": [
    "'''\n",
    "https://076923.github.io/posts/Python-tkinter-1/\n",
    "'''"
   ]
  },
  {
   "cell_type": "markdown",
   "id": "frequent-binary",
   "metadata": {},
   "source": [
    "- radiobutton"
   ]
  },
  {
   "cell_type": "code",
   "execution_count": 12,
   "id": "engaged-crazy",
   "metadata": {},
   "outputs": [],
   "source": [
    "import tkinter\n",
    "\n",
    "window = tkinter.Tk()\n",
    "window.title('test')\n",
    "window.geometry('640x480+100+100')\n",
    "window.resizable(False, False)\n",
    "\n",
    "def check():\n",
    "    label.config(text = 'RadioVariety_1 = ' + str(RadioVariety_1.get()) + '\\n' +\n",
    "                'RadioVariety_2 = ' + str(RadioVariety_2.get()) + '\\n\\n' +\n",
    "                'Total = ' + str(RadioVariety_1.get() + RadioVariety_2.get()))\n",
    "    \n",
    "RadioVariety_1 = tkinter.IntVar()\n",
    "RadioVariety_2 = tkinter.IntVar()\n",
    "\n",
    "radio1 = tkinter.Radiobutton(window, text = 'no.1', value = 3, variable = RadioVariety_1, command = check)\n",
    "radio1.pack()\n",
    "\n",
    "readio2 = tkinter.Radiobutton(window, text = 'no.2(no.1)', value = 2, variable = RadioVariety_1, command = check)\n",
    "readio2.pack()\n",
    "\n",
    "radio3 = tkinter.Radiobutton(window, text = 'no.3', value = 9, variable = RadioVariety_1, command = check)\n",
    "radio3.pack()\n",
    "\n",
    "label = tkinter.Label(window, text = 'None', height = 5)\n",
    "label.pack()\n",
    "\n",
    "radio4 = tkinter.Radiobutton(window, text = 'no.4', value = 12, variable = RadioVariety_2, command = check)\n",
    "radio4.pack()\n",
    "\n",
    "radio5 = tkinter.Radiobutton(window, text = 'no.5', value = 15, variable = RadioVariety_2, command = check)\n",
    "radio5.pack()\n",
    "\n",
    "window.mainloop()"
   ]
  },
  {
   "cell_type": "markdown",
   "id": "lightweight-garbage",
   "metadata": {},
   "source": [
    "- menubar"
   ]
  },
  {
   "cell_type": "code",
   "execution_count": 1,
   "id": "surrounded-nation",
   "metadata": {},
   "outputs": [
    {
     "name": "stdout",
     "output_type": "stream",
     "text": [
      "window close\n"
     ]
    }
   ],
   "source": [
    "import tkinter\n",
    "\n",
    "window = tkinter.Tk()\n",
    "window.title('test')\n",
    "window.geometry('640x480+100+100')\n",
    "window.resizable(False, False)\n",
    "\n",
    "def close():\n",
    "    window.quit()\n",
    "    window.destroy()\n",
    "    \n",
    "menubar = tkinter.Menu(window)\n",
    "\n",
    "menu_1 = tkinter.Menu(menubar, tearoff = 0)\n",
    "# add_command : do not appear the check shape in the menu\n",
    "menu_1.add_command(label = 'subsidary mune 1-1')\n",
    "menu_1.add_command(label = 'subsidary menu 1-2')\n",
    "menu_1.add_separator()\n",
    "menu_1.add_command(label = 'subsidary menu 1-3', command = close)\n",
    "menubar.add_cascade(label = 'main menu 1', menu = menu_1)\n",
    "\n",
    "menu_2 = tkinter.Menu(menubar, tearoff = 0, selectcolor = 'red')\n",
    "# add_radibutton : appering only one of check shape\n",
    "menu_2.add_radiobutton(label = 'subsidary menu 2-1', state = 'disable')\n",
    "menu_2.add_radiobutton(label = 'subsidary menu 2-2')\n",
    "menu_2.add_radiobutton(label = 'subsidary menu 2-3')\n",
    "menubar.add_cascade(label = 'main menu 2', menu = menu_2)\n",
    "\n",
    "menu_3 = tkinter.Menu(menubar, tearoff = 0)\n",
    "# add_checkbutton : is not depending on a number of checked menu\n",
    "menu_3.add_checkbutton(label = 'subsidary menu 3-1')\n",
    "menu_3.add_checkbutton(label = 'subsidary menu 3-2')\n",
    "menubar.add_cascade(label = 'main menu 3', menu = menu_3)\n",
    "\n",
    "window.config(menu = menubar)\n",
    "\n",
    "window.mainloop()\n",
    "\n",
    "print('window close')"
   ]
  },
  {
   "cell_type": "markdown",
   "id": "restricted-enemy",
   "metadata": {},
   "source": [
    "- menubutton"
   ]
  },
  {
   "cell_type": "code",
   "execution_count": 1,
   "id": "extreme-chile",
   "metadata": {},
   "outputs": [],
   "source": [
    "import tkinter\n",
    "\n",
    "window = tkinter.Tk()\n",
    "window.title('test')\n",
    "window.geometry('640x480+100+100')\n",
    "window.resizable(False, False)\n",
    "\n",
    "menubutton = tkinter.Menubutton(window, text = 'menubutton', relief = 'raised', direction = 'right')\n",
    "menubutton.pack()\n",
    "\n",
    "menu = tkinter.Menu(menubutton, tearoff = 0)\n",
    "menu.add_command(label = 'subsidiary menu - 1')\n",
    "menu.add_separator()\n",
    "menu.add_command(label = 'subsidiary menu - 2')\n",
    "menu.add_command(label = 'subsidiary menu - 3')\n",
    "\n",
    "menubutton['menu']=menu\n",
    "\n",
    "window.mainloop()"
   ]
  },
  {
   "cell_type": "markdown",
   "id": "silent-elder",
   "metadata": {},
   "source": [
    "- listbox"
   ]
  },
  {
   "cell_type": "code",
   "execution_count": 3,
   "id": "desirable-indian",
   "metadata": {},
   "outputs": [],
   "source": [
    "import tkinter\n",
    "\n",
    "window = tkinter.Tk()\n",
    "window.title('listbox')\n",
    "window.geometry('640x480+100+100')\n",
    "window.resizable(False, False)\n",
    "\n",
    "listbox = tkinter.Listbox(window, selectmode = 'extended', height = 0)\n",
    "listbox.insert(0, '1')\n",
    "listbox.insert(1, '2')\n",
    "listbox.insert(2, '2')\n",
    "listbox.insert(3, '2')\n",
    "listbox.insert(4, '3')\n",
    "listbox.delete(1,2)\n",
    "listbox.pack()\n",
    "\n",
    "window.mainloop()"
   ]
  },
  {
   "cell_type": "markdown",
   "id": "compatible-snapshot",
   "metadata": {},
   "source": [
    "- scrollbar"
   ]
  },
  {
   "cell_type": "code",
   "execution_count": 7,
   "id": "short-audio",
   "metadata": {},
   "outputs": [],
   "source": [
    "import tkinter\n",
    "\n",
    "window = tkinter.Tk()\n",
    "window.title('scrollbar')\n",
    "window.geometry('640x480+100+100')\n",
    "window.resizable(False, False)\n",
    "\n",
    "frame = tkinter.Frame(window)\n",
    "\n",
    "scrollbar = tkinter.Scrollbar(frame)\n",
    "scrollbar.pack(side = 'right', fill = 'y')\n",
    "\n",
    "listbox = tkinter.Listbox(frame, yscrollcommand = scrollbar.set)\n",
    "for line in range(1, 1001):\n",
    "    listbox.insert(line, str(line) + '/1000')\n",
    "listbox.pack(side = 'left')\n",
    "\n",
    "scrollbar['command'] = listbox.yview\n",
    "\n",
    "frame.pack()\n",
    "window.mainloop()"
   ]
  },
  {
   "cell_type": "markdown",
   "id": "normal-board",
   "metadata": {},
   "source": [
    "- pack"
   ]
  },
  {
   "cell_type": "code",
   "execution_count": 9,
   "id": "mobile-track",
   "metadata": {},
   "outputs": [],
   "source": [
    "import tkinter\n",
    "\n",
    "window = tkinter.Tk()\n",
    "window.title('pack')\n",
    "window.geometry('640x400+100+100')\n",
    "window.resizable(False, False)\n",
    "\n",
    "b1 = tkinter.Button(window, text = 'top')\n",
    "b1_1 = tkinter.Button(window, text = 'top-1')\n",
    "\n",
    "b2 = tkinter.Button(window, text = 'bottom')\n",
    "b2_1 = tkinter.Button(window, text = 'bottom-1')\n",
    "\n",
    "b3 = tkinter.Button(window, text = 'left')\n",
    "b3_1 = tkinter.Button(window, text = 'left-1')\n",
    "\n",
    "b4 = tkinter.Button(window, text = 'right')\n",
    "b4_1 = tkinter.Button(window, text = 'right-1')\n",
    "\n",
    "b5 = tkinter.Button(window, text = 'center', bg = 'green')\n",
    "\n",
    "b1.pack(side = 'top')\n",
    "b1_1.pack(side='top', fill='x')\n",
    "\n",
    "b2.pack(side = 'bottom')\n",
    "b2_1.pack(side = 'bottom', anchor = 'e')\n",
    "\n",
    "b3.pack(side = 'left')\n",
    "b3_1.pack(side = 'left', fill='y')\n",
    "\n",
    "b4.pack(side = 'right')\n",
    "b4_1.pack(side = 'right', anchor = 's')\n",
    "\n",
    "b5.pack(expand = True, fill = 'both')\n",
    "\n",
    "window.mainloop()"
   ]
  },
  {
   "cell_type": "markdown",
   "id": "reverse-wheel",
   "metadata": {},
   "source": [
    "- checkbutton"
   ]
  },
  {
   "cell_type": "code",
   "execution_count": 7,
   "id": "formed-center",
   "metadata": {},
   "outputs": [],
   "source": [
    "import tkinter\n",
    "\n",
    "window = tkinter.Tk()\n",
    "window.title('checkbutton')\n",
    "window.geometry('640x480+100+100')\n",
    "window.resizable(True, True)\n",
    "\n",
    "def flash():\n",
    "    checkbutton1.flash()\n",
    "    \n",
    "CheckVariety_1 = tkinter.IntVar()\n",
    "CheckVariety_2 = tkinter.IntVar()\n",
    "CheckVariety_3 = tkinter.IntVar()\n",
    "\n",
    "checkbutton1 = tkinter.Checkbutton(window, text = 'a', variable = CheckVariety_1)\n",
    "checkbutton2 = tkinter.Checkbutton(window, text = 'b', variable = CheckVariety_2)\n",
    "checkbutton3 = tkinter.Checkbutton(window, text = 'c', variable = CheckVariety_3)\n",
    "\n",
    "checkbutton1.pack()\n",
    "checkbutton2.pack()\n",
    "checkbutton3.pack()\n",
    "\n",
    "window.mainloop()"
   ]
  },
  {
   "cell_type": "markdown",
   "id": "adjacent-disability",
   "metadata": {},
   "source": [
    "- combobox"
   ]
  },
  {
   "cell_type": "code",
   "execution_count": 4,
   "id": "interesting-motivation",
   "metadata": {},
   "outputs": [],
   "source": [
    "import tkinter\n",
    "import tkinter.ttk\n",
    "\n",
    "window = tkinter.Tk()\n",
    "window.title('combobox')\n",
    "window.geometry('640x880+100+100')\n",
    "window.resizable(True, True)\n",
    "\n",
    "values = [str(i) + 'vez' for i in range(1, 101)]\n",
    "\n",
    "combobox = tkinter.ttk.Combobox(window, height = 15, values = values)\n",
    "combobox.pack()\n",
    "\n",
    "combobox.set('list')\n",
    "\n",
    "window.mainloop()"
   ]
  }
 ],
 "metadata": {
  "kernelspec": {
   "display_name": "Python 3",
   "language": "python",
   "name": "python3"
  },
  "language_info": {
   "codemirror_mode": {
    "name": "ipython",
    "version": 3
   },
   "file_extension": ".py",
   "mimetype": "text/x-python",
   "name": "python",
   "nbconvert_exporter": "python",
   "pygments_lexer": "ipython3",
   "version": "3.9.1"
  }
 },
 "nbformat": 4,
 "nbformat_minor": 5
}
