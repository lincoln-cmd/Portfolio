{
 "cells": [
  {
   "cell_type": "code",
   "execution_count": null,
   "id": "finished-lecture",
   "metadata": {},
   "outputs": [],
   "source": [
    "'''\n",
    "https://076923.github.io/posts/Python-tkinter-1/\n",
    "'''"
   ]
  },
  {
   "cell_type": "code",
   "execution_count": 1,
   "id": "engaged-crazy",
   "metadata": {},
   "outputs": [],
   "source": [
    "import tkinter\n",
    "\n",
    "window = tkinter.Tk()\n",
    "window.title('test')\n",
    "window.geometry('640x480+100+100')\n",
    "window.resizable(False, False)\n",
    "\n",
    "def check():\n",
    "    label.config(text = 'RadioVariety_1 = ' + str(RadioVariety_1.get()) + '\\n' +\n",
    "                'RadioVariety_2 = ' + str(RadioVariety_2.get()) + '\\n\\n' +\n",
    "                'Total = ' + str(RadioVariety_1.get() + RadioVariety_2.get()))\n",
    "    \n",
    "RadioVariety_1 = tkinter.IntVar()\n",
    "RadioVariety_2 = tkinter.IntVar()\n",
    "\n",
    "radio1 = tkinter.Radiobutton(window, text = 'no.1', value = 3, variable = RadioVariety_1, command = check)\n",
    "radio1.pack()\n",
    "\n",
    "readio2 = tkinter.Radiobutton(window, text = 'no.2(no.1)', value = 3, variable = RadioVariety_1, command = check)\n",
    "readio2.pack()\n",
    "\n",
    "radio3 = tkinter.Radiobutton(window, text = 'no.3', value = 9, variable = RadioVariety_1, command = check)\n",
    "radio3.pack()\n",
    "\n",
    "label = tkinter.Label(window, text = 'None', height = 5)\n",
    "label.pack()\n",
    "\n",
    "radio4 = tkinter.Radiobutton(window, text = 'no.4', value = 12, variable = RadioVariety_2, command = check)\n",
    "radio4.pack()\n",
    "\n",
    "radio5 = tkinter.Radiobutton(window, text = 'no.5', value = 15, variable = RadioVariety_2, command = check)\n",
    "radio5.pack()\n",
    "\n",
    "window.mainloop()"
   ]
  },
  {
   "cell_type": "code",
   "execution_count": 7,
   "id": "surrounded-nation",
   "metadata": {},
   "outputs": [
    {
     "name": "stdout",
     "output_type": "stream",
     "text": [
      "window close\n"
     ]
    }
   ],
   "source": [
    "import tkinter\n",
    "\n",
    "window = tkinter.Tk()\n",
    "window.title('test')\n",
    "window.geometry('640x480+100+100')\n",
    "window.resizable(False, False)\n",
    "\n",
    "def close():\n",
    "    window.quit()\n",
    "    window.destroy()\n",
    "    \n",
    "menubar = tkinter.Menu(window)\n",
    "\n",
    "menu_1 = tkinter.Menu(menubar, tearoff = 0)\n",
    "# add_command : do not appear the check shape in the menu\n",
    "menu_1.add_command(label = 'subsidary mune 1-1')\n",
    "menu_1.add_command(label = 'subsidary menu 1-2')\n",
    "menu_1.add_separator()\n",
    "menu_1.add_command(label = 'subsidary menu 1-3', command = close)\n",
    "menubar.add_cascade(label = 'main menu 1', menu = menu_1)\n",
    "\n",
    "menu_2 = tkinter.Menu(menubar, tearoff = 0, selectcolor = 'red')\n",
    "# add_radibutton : appering only one of check shape\n",
    "menu_2.add_radiobutton(label = 'subsidary menu 2-1', state = 'disable')\n",
    "menu_2.add_radiobutton(label = 'subsidary menu 2-2')\n",
    "menu_2.add_radiobutton(label = 'subsidary menu 2-3')\n",
    "menubar.add_cascade(label = 'main menu 2', menu = menu_2)\n",
    "\n",
    "menu_3 = tkinter.Menu(menubar, tearoff = 0)\n",
    "# add_checkbutton : is not depending on a number of checked menu\n",
    "menu_3.add_checkbutton(label = 'subsidary menu 3-1')\n",
    "menu_3.add_checkbutton(label = 'subsidary menu 3-2')\n",
    "menubar.add_cascade(label = 'main menu 3', menu = menu_3)\n",
    "\n",
    "window.config(menu = menubar)\n",
    "\n",
    "window.mainloop()\n",
    "\n",
    "print('window close')"
   ]
  },
  {
   "cell_type": "code",
   "execution_count": null,
   "id": "august-inspection",
   "metadata": {},
   "outputs": [],
   "source": []
  }
 ],
 "metadata": {
  "kernelspec": {
   "display_name": "Python 3",
   "language": "python",
   "name": "python3"
  },
  "language_info": {
   "codemirror_mode": {
    "name": "ipython",
    "version": 3
   },
   "file_extension": ".py",
   "mimetype": "text/x-python",
   "name": "python",
   "nbconvert_exporter": "python",
   "pygments_lexer": "ipython3",
   "version": "3.8.5"
  }
 },
 "nbformat": 4,
 "nbformat_minor": 5
}
