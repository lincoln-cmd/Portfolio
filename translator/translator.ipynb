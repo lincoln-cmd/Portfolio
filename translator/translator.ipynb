{
  "nbformat": 4,
  "nbformat_minor": 0,
  "metadata": {
    "colab": {
      "name": "translator.ipynb",
      "provenance": [],
      "collapsed_sections": [],
      "authorship_tag": "ABX9TyPWorzPpip+gxombJ9SH7GR",
      "include_colab_link": true
    },
    "kernelspec": {
      "name": "python3",
      "display_name": "Python 3"
    },
    "language_info": {
      "name": "python"
    }
  },
  "cells": [
    {
      "cell_type": "markdown",
      "metadata": {
        "id": "view-in-github",
        "colab_type": "text"
      },
      "source": [
        "<a href=\"https://colab.research.google.com/github/lincoln-cmd/Portfolio/blob/main/translator.ipynb\" target=\"_parent\"><img src=\"https://colab.research.google.com/assets/colab-badge.svg\" alt=\"Open In Colab\"/></a>"
      ]
    },
    {
      "cell_type": "code",
      "source": [
        "# package intall setup\n",
        "\n",
        "import os, sys\n",
        "from google.colab import drive\n",
        "drive.mount('/content/drive')\n",
        "\n",
        "my_path = '/content/notebooks'\n",
        "\n",
        "\n",
        "os.symlink('/content/drive/MyDrive/Colab Notebooks/my_env', my_path)\n",
        "sys.path.insert(0, my_path)\n"
      ],
      "metadata": {
        "colab": {
          "base_uri": "https://localhost:8080/"
        },
        "id": "zQqSmQKy0vnY",
        "outputId": "d4ade5e8-95cb-4fce-a056-bf0f9f130921"
      },
      "execution_count": 13,
      "outputs": [
        {
          "output_type": "stream",
          "name": "stdout",
          "text": [
            "Drive already mounted at /content/drive; to attempt to forcibly remount, call drive.mount(\"/content/drive\", force_remount=True).\n"
          ]
        }
      ]
    },
    {
      "cell_type": "code",
      "source": [
        "# install the package\n",
        "!pip install --target=$pg_path googletrans\n",
        "\n",
        "\n",
        "# upgrade the package\n",
        "!pip install --upgrade googletrans\n",
        "\n",
        "\n",
        "# other method to install the package\n",
        "#!setup.py install googletrans==4.0.0-rc1"
      ],
      "metadata": {
        "colab": {
          "base_uri": "https://localhost:8080/",
          "height": 1000
        },
        "id": "-JnZm7I343VN",
        "outputId": "361b36d4-b14e-4ea4-8233-21cf502563c9"
      },
      "execution_count": 24,
      "outputs": [
        {
          "output_type": "stream",
          "name": "stdout",
          "text": [
            "Collecting googletrans\n",
            "  Using cached googletrans-3.0.0-py3-none-any.whl\n",
            "Collecting httpx==0.13.3\n",
            "  Using cached httpx-0.13.3-py3-none-any.whl (55 kB)\n",
            "Collecting sniffio\n",
            "  Using cached sniffio-1.2.0-py3-none-any.whl (10 kB)\n",
            "Collecting httpcore==0.9.*\n",
            "  Using cached httpcore-0.9.1-py3-none-any.whl (42 kB)\n",
            "Collecting certifi\n",
            "  Using cached certifi-2021.10.8-py2.py3-none-any.whl (149 kB)\n",
            "Collecting idna==2.*\n",
            "  Using cached idna-2.10-py2.py3-none-any.whl (58 kB)\n",
            "Collecting rfc3986<2,>=1.3\n",
            "  Using cached rfc3986-1.5.0-py2.py3-none-any.whl (31 kB)\n",
            "Collecting hstspreload\n",
            "  Using cached hstspreload-2021.12.1-py3-none-any.whl (1.3 MB)\n",
            "Collecting chardet==3.*\n",
            "  Using cached chardet-3.0.4-py2.py3-none-any.whl (133 kB)\n",
            "Collecting h2==3.*\n",
            "  Using cached h2-3.2.0-py2.py3-none-any.whl (65 kB)\n",
            "Collecting h11<0.10,>=0.8\n",
            "  Using cached h11-0.9.0-py2.py3-none-any.whl (53 kB)\n",
            "Collecting hpack<4,>=3.0\n",
            "  Using cached hpack-3.0.0-py2.py3-none-any.whl (38 kB)\n",
            "Collecting hyperframe<6,>=5.2.0\n",
            "  Using cached hyperframe-5.2.0-py2.py3-none-any.whl (12 kB)\n",
            "Installing collected packages: hyperframe, hpack, sniffio, h2, h11, rfc3986, idna, httpcore, hstspreload, chardet, certifi, httpx, googletrans\n",
            "\u001b[31mERROR: pip's dependency resolver does not currently take into account all the packages that are installed. This behaviour is the source of the following dependency conflicts.\n",
            "datascience 0.10.6 requires folium==0.2.1, but you have folium 0.8.3 which is incompatible.\u001b[0m\n",
            "Successfully installed certifi-2021.10.8 chardet-3.0.4 googletrans-3.0.0 h11-0.9.0 h2-3.2.0 hpack-3.0.0 hstspreload-2021.12.1 httpcore-0.9.1 httpx-0.13.3 hyperframe-5.2.0 idna-2.10 rfc3986-1.5.0 sniffio-1.2.0\n",
            "\u001b[33mWARNING: Target directory /content/packages/httpx already exists. Specify --upgrade to force replacement.\u001b[0m\n",
            "\u001b[33mWARNING: Target directory /content/packages/hstspreload already exists. Specify --upgrade to force replacement.\u001b[0m\n",
            "\u001b[33mWARNING: Target directory /content/packages/idna-2.10.dist-info already exists. Specify --upgrade to force replacement.\u001b[0m\n",
            "\u001b[33mWARNING: Target directory /content/packages/hyperframe-5.2.0.dist-info already exists. Specify --upgrade to force replacement.\u001b[0m\n",
            "\u001b[33mWARNING: Target directory /content/packages/certifi-2021.10.8.dist-info already exists. Specify --upgrade to force replacement.\u001b[0m\n",
            "\u001b[33mWARNING: Target directory /content/packages/httpcore-0.9.1.dist-info already exists. Specify --upgrade to force replacement.\u001b[0m\n",
            "\u001b[33mWARNING: Target directory /content/packages/hpack already exists. Specify --upgrade to force replacement.\u001b[0m\n",
            "\u001b[33mWARNING: Target directory /content/packages/googletrans already exists. Specify --upgrade to force replacement.\u001b[0m\n",
            "\u001b[33mWARNING: Target directory /content/packages/rfc3986-1.5.0.dist-info already exists. Specify --upgrade to force replacement.\u001b[0m\n",
            "\u001b[33mWARNING: Target directory /content/packages/h2 already exists. Specify --upgrade to force replacement.\u001b[0m\n",
            "\u001b[33mWARNING: Target directory /content/packages/chardet already exists. Specify --upgrade to force replacement.\u001b[0m\n",
            "\u001b[33mWARNING: Target directory /content/packages/hyperframe already exists. Specify --upgrade to force replacement.\u001b[0m\n",
            "\u001b[33mWARNING: Target directory /content/packages/googletrans-3.0.0.dist-info already exists. Specify --upgrade to force replacement.\u001b[0m\n",
            "\u001b[33mWARNING: Target directory /content/packages/chardet-3.0.4.dist-info already exists. Specify --upgrade to force replacement.\u001b[0m\n",
            "\u001b[33mWARNING: Target directory /content/packages/hpack-3.0.0.dist-info already exists. Specify --upgrade to force replacement.\u001b[0m\n",
            "\u001b[33mWARNING: Target directory /content/packages/httpcore already exists. Specify --upgrade to force replacement.\u001b[0m\n",
            "\u001b[33mWARNING: Target directory /content/packages/certifi already exists. Specify --upgrade to force replacement.\u001b[0m\n",
            "\u001b[33mWARNING: Target directory /content/packages/h11 already exists. Specify --upgrade to force replacement.\u001b[0m\n",
            "\u001b[33mWARNING: Target directory /content/packages/h11-0.9.0.dist-info already exists. Specify --upgrade to force replacement.\u001b[0m\n",
            "\u001b[33mWARNING: Target directory /content/packages/sniffio already exists. Specify --upgrade to force replacement.\u001b[0m\n",
            "\u001b[33mWARNING: Target directory /content/packages/h2-3.2.0.dist-info already exists. Specify --upgrade to force replacement.\u001b[0m\n",
            "\u001b[33mWARNING: Target directory /content/packages/idna already exists. Specify --upgrade to force replacement.\u001b[0m\n",
            "\u001b[33mWARNING: Target directory /content/packages/httpx-0.13.3.dist-info already exists. Specify --upgrade to force replacement.\u001b[0m\n",
            "\u001b[33mWARNING: Target directory /content/packages/sniffio-1.2.0.dist-info already exists. Specify --upgrade to force replacement.\u001b[0m\n",
            "\u001b[33mWARNING: Target directory /content/packages/rfc3986 already exists. Specify --upgrade to force replacement.\u001b[0m\n",
            "\u001b[33mWARNING: Target directory /content/packages/hstspreload-2021.12.1.dist-info already exists. Specify --upgrade to force replacement.\u001b[0m\n",
            "\u001b[33mWARNING: Target directory /content/packages/bin already exists. Specify --upgrade to force replacement.\u001b[0m\n"
          ]
        },
        {
          "output_type": "display_data",
          "data": {
            "application/vnd.colab-display-data+json": {
              "pip_warning": {
                "packages": [
                  "certifi",
                  "chardet",
                  "idna"
                ]
              }
            }
          },
          "metadata": {}
        },
        {
          "output_type": "stream",
          "name": "stdout",
          "text": [
            "Collecting googletrans\n",
            "  Using cached googletrans-3.0.0-py3-none-any.whl\n",
            "Collecting httpx==0.13.3\n",
            "  Using cached httpx-0.13.3-py3-none-any.whl (55 kB)\n",
            "Requirement already satisfied: certifi in /usr/local/lib/python3.7/dist-packages (from httpx==0.13.3->googletrans) (2021.10.8)\n",
            "Requirement already satisfied: chardet==3.* in /usr/local/lib/python3.7/dist-packages (from httpx==0.13.3->googletrans) (3.0.4)\n",
            "Collecting httpcore==0.9.*\n",
            "  Using cached httpcore-0.9.1-py3-none-any.whl (42 kB)\n",
            "Collecting sniffio\n",
            "  Using cached sniffio-1.2.0-py3-none-any.whl (10 kB)\n",
            "Collecting hstspreload\n",
            "  Using cached hstspreload-2021.12.1-py3-none-any.whl (1.3 MB)\n",
            "Collecting rfc3986<2,>=1.3\n",
            "  Using cached rfc3986-1.5.0-py2.py3-none-any.whl (31 kB)\n",
            "Requirement already satisfied: idna==2.* in /usr/local/lib/python3.7/dist-packages (from httpx==0.13.3->googletrans) (2.10)\n",
            "Collecting h2==3.*\n",
            "  Using cached h2-3.2.0-py2.py3-none-any.whl (65 kB)\n",
            "Collecting h11<0.10,>=0.8\n",
            "  Using cached h11-0.9.0-py2.py3-none-any.whl (53 kB)\n",
            "Collecting hpack<4,>=3.0\n",
            "  Using cached hpack-3.0.0-py2.py3-none-any.whl (38 kB)\n",
            "Collecting hyperframe<6,>=5.2.0\n",
            "  Using cached hyperframe-5.2.0-py2.py3-none-any.whl (12 kB)\n",
            "Installing collected packages: hyperframe, hpack, sniffio, h2, h11, rfc3986, httpcore, hstspreload, httpx, googletrans\n",
            "Successfully installed googletrans-3.0.0 h11-0.9.0 h2-3.2.0 hpack-3.0.0 hstspreload-2021.12.1 httpcore-0.9.1 httpx-0.13.3 hyperframe-5.2.0 rfc3986-1.5.0 sniffio-1.2.0\n"
          ]
        },
        {
          "output_type": "display_data",
          "data": {
            "application/vnd.colab-display-data+json": {
              "pip_warning": {
                "packages": [
                  "googletrans",
                  "h11",
                  "h2",
                  "hpack",
                  "hstspreload",
                  "httpcore",
                  "httpx",
                  "hyperframe",
                  "rfc3986",
                  "sniffio"
                ]
              }
            }
          },
          "metadata": {}
        }
      ]
    },
    {
      "cell_type": "code",
      "execution_count": 25,
      "metadata": {
        "colab": {
          "base_uri": "https://localhost:8080/"
        },
        "id": "QgXImfSO0P9T",
        "outputId": "94bfc0aa-233e-4de8-feb6-1266e8438bef"
      },
      "outputs": [
        {
          "output_type": "stream",
          "name": "stdout",
          "text": [
            "나는 한국인 입니다. => I'm a Korean.\n",
            "I like burger. => 나는 햄버거를 좋아합니다.\n"
          ]
        }
      ],
      "source": [
        "import googletrans\n",
        "\n",
        "translator = googletrans.Translator()\n",
        "\n",
        "str1 = '나는 한국인 입니다.'\n",
        "str2 = 'I like burger.'\n",
        "\n",
        "result1 = translator.translate(str1, dest = 'en')\n",
        "result2 = translator.translate(str2, dest = 'ko')\n",
        "\n",
        "print(f'{str1} => {result1.text}')\n",
        "print(f'{str2} => {result2.text}')"
      ]
    },
    {
      "cell_type": "code",
      "source": [
        "# key:value -> code:language\n",
        "\n",
        "print(googletrans.LANGUAGES)"
      ],
      "metadata": {
        "colab": {
          "base_uri": "https://localhost:8080/"
        },
        "id": "RaPWUaXy0Rl-",
        "outputId": "915ae762-7ec8-4778-e53f-d8496a0e73d2"
      },
      "execution_count": 26,
      "outputs": [
        {
          "output_type": "stream",
          "name": "stdout",
          "text": [
            "{'af': 'afrikaans', 'sq': 'albanian', 'am': 'amharic', 'ar': 'arabic', 'hy': 'armenian', 'az': 'azerbaijani', 'eu': 'basque', 'be': 'belarusian', 'bn': 'bengali', 'bs': 'bosnian', 'bg': 'bulgarian', 'ca': 'catalan', 'ceb': 'cebuano', 'ny': 'chichewa', 'zh-cn': 'chinese (simplified)', 'zh-tw': 'chinese (traditional)', 'co': 'corsican', 'hr': 'croatian', 'cs': 'czech', 'da': 'danish', 'nl': 'dutch', 'en': 'english', 'eo': 'esperanto', 'et': 'estonian', 'tl': 'filipino', 'fi': 'finnish', 'fr': 'french', 'fy': 'frisian', 'gl': 'galician', 'ka': 'georgian', 'de': 'german', 'el': 'greek', 'gu': 'gujarati', 'ht': 'haitian creole', 'ha': 'hausa', 'haw': 'hawaiian', 'iw': 'hebrew', 'he': 'hebrew', 'hi': 'hindi', 'hmn': 'hmong', 'hu': 'hungarian', 'is': 'icelandic', 'ig': 'igbo', 'id': 'indonesian', 'ga': 'irish', 'it': 'italian', 'ja': 'japanese', 'jw': 'javanese', 'kn': 'kannada', 'kk': 'kazakh', 'km': 'khmer', 'ko': 'korean', 'ku': 'kurdish (kurmanji)', 'ky': 'kyrgyz', 'lo': 'lao', 'la': 'latin', 'lv': 'latvian', 'lt': 'lithuanian', 'lb': 'luxembourgish', 'mk': 'macedonian', 'mg': 'malagasy', 'ms': 'malay', 'ml': 'malayalam', 'mt': 'maltese', 'mi': 'maori', 'mr': 'marathi', 'mn': 'mongolian', 'my': 'myanmar (burmese)', 'ne': 'nepali', 'no': 'norwegian', 'or': 'odia', 'ps': 'pashto', 'fa': 'persian', 'pl': 'polish', 'pt': 'portuguese', 'pa': 'punjabi', 'ro': 'romanian', 'ru': 'russian', 'sm': 'samoan', 'gd': 'scots gaelic', 'sr': 'serbian', 'st': 'sesotho', 'sn': 'shona', 'sd': 'sindhi', 'si': 'sinhala', 'sk': 'slovak', 'sl': 'slovenian', 'so': 'somali', 'es': 'spanish', 'su': 'sundanese', 'sw': 'swahili', 'sv': 'swedish', 'tg': 'tajik', 'ta': 'tamil', 'te': 'telugu', 'th': 'thai', 'tr': 'turkish', 'uk': 'ukrainian', 'ur': 'urdu', 'ug': 'uyghur', 'uz': 'uzbek', 'vi': 'vietnamese', 'cy': 'welsh', 'xh': 'xhosa', 'yi': 'yiddish', 'yo': 'yoruba', 'zu': 'zulu'}\n"
          ]
        }
      ]
    },
    {
      "cell_type": "code",
      "source": [
        "test = '안녕하세요. 전 펠리페라고 합니다. 저는 한국에서 왔구요, 나이는 27세이며, 직업은 학생이자, 인공지능 개발자입니다. 현재 저는 전세계를 여행하면서 글을 쓰고, 그림을 그리고 있습니다. \\\n",
        "저는 2023년 9월에 애리조나 대학교 천체물리학과에 입학예정이고, 현재는 전남대학교 해양기술학과 휴학 중 입니다.'\n",
        "\n",
        "test_result = translator.translate(test, dest = 'es')\n",
        "test_result2 = translator.translate(test, dest = 'en')\n",
        "test_result3 = translator.translate(test, dest = 'ar')\n",
        "test_result4 = translator.translate(test, dest = 'zh-cn')\n",
        "test_result5 = translator.translate(test, dest = 'ja')\n",
        "\n",
        "print(f'Spanish : {test_result.text}')\n",
        "print(f'English : {test_result2.text}')\n",
        "print(f'Arabic : {test_result3.text}')\n",
        "print(f'Chinese : {test_result4.text}')\n",
        "print(f'Japanese : {test_result5.text}')"
      ],
      "metadata": {
        "colab": {
          "base_uri": "https://localhost:8080/"
        },
        "id": "upBP_R6I6Q3i",
        "outputId": "833e71dc-83c8-4316-e716-6ad7de581651"
      },
      "execution_count": 30,
      "outputs": [
        {
          "output_type": "stream",
          "name": "stdout",
          "text": [
            "Spanish : Hola.Estoy llamado Peliper.Estoy en Corea, la edad es de 27 años, y el trabajo es un estudiante y un desarrollador de inteligencia artificial.Actualmente, estoy escribiendo una escritura y escribo una foto de todo el mundo.Voy al Departamento de Astrología, la Universidad de Arizona en septiembre de 2023, y ahora estoy siendo actualmente en el Departamento de Marina y Ciencia, la Universidad Nacional de Chonnam.\n",
            "English : hello.I'm called Peliper.I am in Korea, age is 27 years, and the job is a student and an artificial intelligence developer.Currently, I am writing a writing and writing a picture around the world.I am going to the Department of Astrology, Arizona University in September 2023, and now I am currently being in the Department of Marine and Science, Chonnam National University.\n",
            "Arabic : أهلا.أنا دعا peliper.أنا في كوريا، العمر 27 عاما، والوظائف هي طالب ومطور ذكاء اصطناعي.حاليا، أكتب كتابة وكتابة صورة حول العالم.سأذهب إلى قسم علم التنجيم، جامعة أريزونا في سبتمبر 2023، والآن أنا حاليا في قسم البحرية والعلوم، جامعة تشونام الوطنية.\n",
            "Chinese : 你好。我被称为peliper。我在韩国，年龄是27岁，工作是学生和一个人工智能开发商。目前，我正在写一张写作，在世界各地写一张照片。我将于9月2023日前往亚利桑那大学占星术部，目前我目前正在Chonnam国立大学的海洋和科学系。\n",
            "Japanese : こんにちは。私はPeliperと呼んでいます。私は韓国で、年齢は27歳で、仕事は学生と人工知能開発者です。現在、私は執筆を書いて世界中の写真を書いています。私は2023年9月にアリゾナ大学の占星術省に行きます、そして今、私は現在Chonnam National大学海洋科学部にいます。\n"
          ]
        }
      ]
    },
    {
      "cell_type": "code",
      "source": [
        "test2 = 'Marina y Ciencia'\n",
        "\n",
        "test2_result = translator.translate(test2, dest = 'ko')\n",
        "\n",
        "print(f'{test2_result.text}')"
      ],
      "metadata": {
        "colab": {
          "base_uri": "https://localhost:8080/"
        },
        "id": "TevJtOw36RTK",
        "outputId": "fc7ff2e3-5cb7-4c18-9244-e44649df163d"
      },
      "execution_count": 32,
      "outputs": [
        {
          "output_type": "stream",
          "name": "stdout",
          "text": [
            "마리나와 과학\n"
          ]
        }
      ]
    },
    {
      "cell_type": "code",
      "source": [
        "print('Insert text :', end = ' ')\n",
        "test3 = str(input())\n",
        "\n",
        "print('Insert language you want to translate :', end = ' ')\n",
        "dst = str(input())\n",
        "\n",
        "test3_result = translator.translate(test3, dest = dst)\n",
        "\n",
        "print(f'{test3_result.text}')\n",
        "print(f'{test3_result.pronunciation}')"
      ],
      "metadata": {
        "colab": {
          "base_uri": "https://localhost:8080/"
        },
        "id": "95SwqFk16RVJ",
        "outputId": "10e68347-7bc3-42c4-e0ec-298e9969e185"
      },
      "execution_count": 48,
      "outputs": [
        {
          "output_type": "stream",
          "name": "stdout",
          "text": [
            "Insert text : 나는 맥주를 마시고싶다.\n",
            "Insert language you want to translate : ar\n",
            "أريد أن شرب البيرة.\n",
            "'urid 'ana shurb albirati.\n"
          ]
        }
      ]
    },
    {
      "cell_type": "code",
      "source": [
        ""
      ],
      "metadata": {
        "id": "1gFj4GzSMvSB"
      },
      "execution_count": null,
      "outputs": []
    }
  ]
}
